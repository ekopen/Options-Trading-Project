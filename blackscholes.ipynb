{
 "cells": [
  {
   "cell_type": "code",
   "execution_count": 1,
   "metadata": {},
   "outputs": [],
   "source": [
    "#black scholes classes"
   ]
  },
  {
   "cell_type": "code",
   "execution_count": 2,
   "metadata": {},
   "outputs": [],
   "source": [
    "#initialize libraries\n",
    "import numpy as np\n",
    "import pandas as pd\n",
    "import math\n",
    "from scipy.stats import norm"
   ]
  },
  {
   "cell_type": "code",
   "execution_count": 3,
   "metadata": {},
   "outputs": [],
   "source": [
    "#Black Scholes Pricing Model\n",
    "\n",
    "#S = asset price\n",
    "#K = strike price\n",
    "#T = expiration time (yrs)\n",
    "#r = risk free rate (annualized)\n",
    "#sig = volatility\n",
    "\n",
    "# initialize the parent class\n",
    "class BlackScholes:\n",
    "    def __init__(self,S,K,T,r,sig):\n",
    "        self.S = S\n",
    "        self.K = K\n",
    "        self.T = T\n",
    "        self.r = r\n",
    "        self.sig = sig\n",
    "\n",
    "        #derived factors\n",
    "        # d1 shows how far the current price is above the strike price, considering growth and time.\n",
    "        # d2 indicates the likelihood of the option expiring in the money.\n",
    "        self.d1 = (np.log(self.S/self.K) + (self.r + (self.sig**2 / 2))*self.T)/(self.sig*math.sqrt(self.T))\n",
    "        self.d2 = self.d1 - self.sig*math.sqrt(self.T)\n",
    "    \n",
    "    #creating functions for normal pdf and cdf in case we want to edit distribution\n",
    "    def calcCDF(self,dTerm): \n",
    "        return norm.cdf(dTerm)\n",
    "\n",
    "    def calcPDF(self,dTerm): \n",
    "        return norm.pdf(dTerm)\n",
    "    \n",
    "    # greek calculations that are the same for both put/calls below\n",
    "\n",
    "    def calcGamma(self):\n",
    "        return self.calcPDF(self.d1) / (self.S * self.sig * math.sqrt(self.T))\n",
    "\n",
    "    def calcVega(self):\n",
    "        return self.S * self.calcPDF(self.d1) * math.sqrt(self.T)\n",
    "    \n",
    "    #print function\n",
    "\n",
    "    def print(self):\n",
    "        print(\"The option has the following outputs: \")\n",
    "        print(\"Price: ${:.4f}\".format(self.calcPrice()))\n",
    "        print(\"Delta: ${:.4f}\".format(self.calcDelta()))\n",
    "        print(\"Gamma: ${:.4f}\".format(self.calcGamma()))\n",
    "        print(\"Vega: ${:.4f}\".format(self.calcVega()))\n",
    "        print(\"Theta: ${:.4f}\".format(self.calcTheta()))\n",
    "        print(\"Rho: ${:.4f}\".format(self.calcRho()))\n",
    "        print()\n"
   ]
  },
  {
   "cell_type": "code",
   "execution_count": 5,
   "metadata": {},
   "outputs": [],
   "source": [
    "#child class for call options\n",
    "class BSCall(BlackScholes):\n",
    "    def __init__(self,S,K,T,r,sig):\n",
    "        super().__init__(S,K,T,r,sig)\n",
    "\n",
    "    def calcPrice(self):\n",
    "        return self.S * self.calcCDF(self.d1) - self.K *  (math.exp(-self.r * self.T)) * self.calcCDF(self.d2)\n",
    "\n",
    "    def calcDelta(self):\n",
    "        return self.calcCDF(self.d1)\n",
    "    \n",
    "    def calcTheta(self):\n",
    "        return - (self.S * self.calcPDF(self.d1)*self.sig)/(2*math.sqrt(self.T)) - (self.r * self.K * math.exp(-self.r * self.T) * self.calcCDF(self.d2))\n",
    "    \n",
    "    def calcRho(self):\n",
    "        return self.K * self.T * math.exp(-self.r * self.T) * self.calcCDF(self.d2)\n",
    "\n",
    "\n",
    "#child class for put options\n",
    "class BSPut(BlackScholes):\n",
    "    def __init__(self,S,K,T,r,sig):\n",
    "        super().__init__(S,K,T,r,sig)\n",
    "\n",
    "    def calcPrice(self):\n",
    "        return self.K *  (math.exp(-self.r * self.T)) * self.calcCDF(-self.d2) - self.S * self.calcCDF(-self.d1)\n",
    "    \n",
    "    def calcDelta(self):\n",
    "        return self.calcCDF(self.d1) - 1\n",
    "    \n",
    "    def calcTheta(self):\n",
    "        return - (self.S * self.calcPDF(self.d1) * self.sig) / (2 * math.sqrt(self.T))+ (self.r * self.K * math.exp(-self.r * self.T) * self.calcCDF(-self.d2))\n",
    " \n",
    "    def calcRho(self):\n",
    "        return -self.K * self.T * math.exp(-self.r * self.T) * self.calcCDF(-self.d2)\n"
   ]
  }
 ],
 "metadata": {
  "kernelspec": {
   "display_name": "base",
   "language": "python",
   "name": "python3"
  },
  "language_info": {
   "codemirror_mode": {
    "name": "ipython",
    "version": 3
   },
   "file_extension": ".py",
   "mimetype": "text/x-python",
   "name": "python",
   "nbconvert_exporter": "python",
   "pygments_lexer": "ipython3",
   "version": "3.12.4"
  }
 },
 "nbformat": 4,
 "nbformat_minor": 2
}
