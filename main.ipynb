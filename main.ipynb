{
 "cells": [
  {
   "cell_type": "code",
   "execution_count": 4,
   "metadata": {},
   "outputs": [],
   "source": [
    "#goals in this project\n",
    "#set up a black scholes pricing model\n",
    "#calculate greeks based on black scholes\n",
    "\n",
    "#come up with several other pricing methods too\n",
    "    #binomial\n",
    "    #monte carlo\n",
    "    #heston\n",
    "\n",
    "#test them against each other\n",
    "#test their sensititives\n",
    "#create unit tests\n",
    "\n",
    "#test with market data\n",
    "\n",
    "#find discerpencies\n",
    "#explain discrepencies\n",
    "#find way to exploit discrepencies"
   ]
  },
  {
   "cell_type": "code",
   "execution_count": 5,
   "metadata": {},
   "outputs": [],
   "source": [
    "%run blackscholes.ipynb"
   ]
  },
  {
   "cell_type": "code",
   "execution_count": 6,
   "metadata": {},
   "outputs": [
    {
     "name": "stdout",
     "output_type": "stream",
     "text": [
      "The option has the following outputs: \n",
      "Price: $17.3198\n",
      "Delta: $0.7892\n",
      "Gamma: $0.0129\n",
      "Vega: $64.5904\n",
      "Theta: $-3.7258\n",
      "Rho: $307.9937\n",
      "\n",
      "The option has the following outputs: \n",
      "Price: $2.9879\n",
      "Delta: $-0.2108\n",
      "Gamma: $0.0129\n",
      "Vega: $64.5904\n",
      "Theta: $0.5576\n",
      "Rho: $-120.3467\n",
      "\n"
     ]
    }
   ],
   "source": [
    "#testing prices, verified these are accurate with an online calculator\n",
    "testEC = BSCall(100,110,5,.05,.1)\n",
    "testEC.print()\n",
    "\n",
    "testEP = BSPut(100,110,5,.05,.1)\n",
    "testEP.print()"
   ]
  },
  {
   "cell_type": "code",
   "execution_count": null,
   "metadata": {},
   "outputs": [],
   "source": []
  }
 ],
 "metadata": {
  "kernelspec": {
   "display_name": "base",
   "language": "python",
   "name": "python3"
  },
  "language_info": {
   "codemirror_mode": {
    "name": "ipython",
    "version": 3
   },
   "file_extension": ".py",
   "mimetype": "text/x-python",
   "name": "python",
   "nbconvert_exporter": "python",
   "pygments_lexer": "ipython3",
   "version": "3.12.4"
  }
 },
 "nbformat": 4,
 "nbformat_minor": 2
}
