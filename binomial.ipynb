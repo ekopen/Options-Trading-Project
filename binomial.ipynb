{
 "cells": [
  {
   "cell_type": "code",
   "execution_count": 1,
   "metadata": {},
   "outputs": [],
   "source": [
    "#binomial classes"
   ]
  },
  {
   "cell_type": "code",
   "execution_count": 2,
   "metadata": {},
   "outputs": [],
   "source": [
    "import math"
   ]
  },
  {
   "cell_type": "code",
   "execution_count": 10,
   "metadata": {},
   "outputs": [],
   "source": [
    "#binary search tree (required in the binomial pricing function)\n",
    "\n",
    "class TreeNode:\n",
    "    def __init__(self,value):\n",
    "        self.value = value\n",
    "        self.left = None\n",
    "        self.right = None\n",
    "    \n",
    "class BinarySearchTree:\n",
    "    def __init__(self):\n",
    "        self.root = None\n",
    "\n",
    "    def insert(self,value):\n",
    "        if self.root is None:\n",
    "            self.root = TreeNode(value)\n",
    "        else:\n",
    "            self._insert_recursive(self.root,value)\n",
    "        \n",
    "    def _insert_recursive(self,node,value):\n",
    "        if value < node.value:\n",
    "            if node.left is None:\n",
    "                node.left = TreeNode(value)\n",
    "            else:\n",
    "                self._insert_recursive(node.left,value)\n",
    "        elif value > node.value:\n",
    "            if node.right is None:\n",
    "                node.right = TreeNode(value)\n",
    "            else:\n",
    "                self._insert_recursive(node.right, value)"
   ]
  },
  {
   "cell_type": "code",
   "execution_count": 11,
   "metadata": {},
   "outputs": [],
   "source": [
    "#Binomial Pricing Model\n",
    "\n",
    "#S = asset price\n",
    "#K = strike price\n",
    "#T = expiration time (yrs)\n",
    "#r = risk free rate (annualized)\n",
    "#sig = volatility\n",
    "#N = time steps in model\n",
    "\n",
    "class Binomial:\n",
    "    def __init__(self,S,K,T,r,sig,N):\n",
    "        self.S = S\n",
    "        self.K = K\n",
    "        self.T = T\n",
    "        self.r = r\n",
    "        self.sig = sig\n",
    "        self.N = N\n",
    "\n",
    "        #derived factors\n",
    "        # deltaT is the time step size for each period.\n",
    "        # up represents the upward movement factor for the asset price.\n",
    "        # down represents the downward movement factor for the asset price.\n",
    "        # riskNeutral is the risk-neutral probability of an upward price movement.\n",
    "        self.deltaT = self.T/self.N\n",
    "        self.up = math.exp(self.sig*math.sqrt(self.deltaT))\n",
    "        self.down = 1 / self.up\n",
    "        self.riskNeutral = (math.exp(self.r*self.deltaT) - self.down)/(self.up - self.down)\n",
    "\n",
    "        #bst initialization\n",
    "        self.bst = BinarySearchTree()\n",
    "    \n",
    "    def PricingTree(self):\n",
    "        self.bst.insert(self.S)\n",
    "        for i in range(1, self.N + 1):\n",
    "            for j in rnage(i+1):\n",
    "                price = (self.S * self.up ** j) * (self.down ** (i-j))\n",
    "                self.bst.insert(price)\n",
    "        return self.bst\n"
   ]
  },
  {
   "cell_type": "code",
   "execution_count": null,
   "metadata": {},
   "outputs": [],
   "source": []
  }
 ],
 "metadata": {
  "kernelspec": {
   "display_name": "base",
   "language": "python",
   "name": "python3"
  },
  "language_info": {
   "codemirror_mode": {
    "name": "ipython",
    "version": 3
   },
   "file_extension": ".py",
   "mimetype": "text/x-python",
   "name": "python",
   "nbconvert_exporter": "python",
   "pygments_lexer": "ipython3",
   "version": "3.12.4"
  }
 },
 "nbformat": 4,
 "nbformat_minor": 2
}
